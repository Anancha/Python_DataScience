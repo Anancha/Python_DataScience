{
 "metadata": {
  "language_info": {
   "codemirror_mode": {
    "name": "ipython",
    "version": 3
   },
   "file_extension": ".py",
   "mimetype": "text/x-python",
   "name": "python",
   "nbconvert_exporter": "python",
   "pygments_lexer": "ipython3",
   "version": "3.8.5-final"
  },
  "orig_nbformat": 2,
  "kernelspec": {
   "name": "python3",
   "display_name": "Python 3.8.5 32-bit",
   "metadata": {
    "interpreter": {
     "hash": "7a542ca580817fc4dd55327026e074e2fa0cd470fc5dee9350c2d8b13822db8d"
    }
   }
  }
 },
 "nbformat": 4,
 "nbformat_minor": 2,
 "cells": [
  {
   "cell_type": "code",
   "execution_count": 37,
   "metadata": {},
   "outputs": [
    {
     "output_type": "execute_result",
     "data": {
      "text/plain": [
       "    Id       Name   Salary   Age\n",
       "0  100     ศุภชัย  20000.0  35.0\n",
       "1  200       สมใจ  22000.0  34.0\n",
       "2  300  ศักดิ์ชัย  20500.0  35.5\n",
       "3  400      พรชัย  19000.0  37.0"
      ],
      "text/html": "<div>\n<style scoped>\n    .dataframe tbody tr th:only-of-type {\n        vertical-align: middle;\n    }\n\n    .dataframe tbody tr th {\n        vertical-align: top;\n    }\n\n    .dataframe thead th {\n        text-align: right;\n    }\n</style>\n<table border=\"1\" class=\"dataframe\">\n  <thead>\n    <tr style=\"text-align: right;\">\n      <th></th>\n      <th>Id</th>\n      <th>Name</th>\n      <th>Salary</th>\n      <th>Age</th>\n    </tr>\n  </thead>\n  <tbody>\n    <tr>\n      <th>0</th>\n      <td>100</td>\n      <td>ศุภชัย</td>\n      <td>20000.0</td>\n      <td>35.0</td>\n    </tr>\n    <tr>\n      <th>1</th>\n      <td>200</td>\n      <td>สมใจ</td>\n      <td>22000.0</td>\n      <td>34.0</td>\n    </tr>\n    <tr>\n      <th>2</th>\n      <td>300</td>\n      <td>ศักดิ์ชัย</td>\n      <td>20500.0</td>\n      <td>35.5</td>\n    </tr>\n    <tr>\n      <th>3</th>\n      <td>400</td>\n      <td>พรชัย</td>\n      <td>19000.0</td>\n      <td>37.0</td>\n    </tr>\n  </tbody>\n</table>\n</div>"
     },
     "metadata": {},
     "execution_count": 37
    }
   ],
   "source": [
    "import pandas as pd\n",
    "import numpy as np\n",
    "\n",
    "data = {\n",
    "            'Id': [100, 200, 300, 400],\n",
    "            'Name': ['ศุภชัย', 'สมใจ', 'ศักดิ์ชัย', 'พรชัย'],\n",
    "            'Salary': [20000, 22000, np.nan, 19000],\n",
    "            'Age': [35, 34, np.nan, 37]\n",
    "        }\n",
    "\n",
    "df = pd.DataFrame(data)\n",
    "result = df.interpolate()\n",
    "result"
   ]
  },
  {
   "cell_type": "code",
   "execution_count": null,
   "metadata": {},
   "outputs": [],
   "source": []
  }
 ]
}