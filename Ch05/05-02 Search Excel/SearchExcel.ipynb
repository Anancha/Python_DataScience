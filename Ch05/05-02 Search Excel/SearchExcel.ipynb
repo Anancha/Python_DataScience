{
 "metadata": {
  "language_info": {
   "codemirror_mode": {
    "name": "ipython",
    "version": 3
   },
   "file_extension": ".py",
   "mimetype": "text/x-python",
   "name": "python",
   "nbconvert_exporter": "python",
   "pygments_lexer": "ipython3",
   "version": "3.8.5-final"
  },
  "orig_nbformat": 2,
  "kernelspec": {
   "name": "Python 3.8.5 32-bit",
   "display_name": "Python 3.8.5 32-bit",
   "metadata": {
    "interpreter": {
     "hash": "7a542ca580817fc4dd55327026e074e2fa0cd470fc5dee9350c2d8b13822db8d"
    }
   }
  }
 },
 "nbformat": 4,
 "nbformat_minor": 2,
 "cells": [
  {
   "cell_type": "code",
   "execution_count": 18,
   "metadata": {},
   "outputs": [
    {
     "output_type": "execute_result",
     "data": {
      "text/plain": [
       "  รหัสสินค้า                          ชื่อสินค้า  ต้นทุน  ราคาขาย\n",
       "1      A0002   พัฒนาเว็บแอพด้วย ASP.NET Core MVC     270      299\n",
       "5      A0006  การพัฒนาเว็บด้วย ASP.NET Core MVC      299      315"
      ],
      "text/html": "<div>\n<style scoped>\n    .dataframe tbody tr th:only-of-type {\n        vertical-align: middle;\n    }\n\n    .dataframe tbody tr th {\n        vertical-align: top;\n    }\n\n    .dataframe thead th {\n        text-align: right;\n    }\n</style>\n<table border=\"1\" class=\"dataframe\">\n  <thead>\n    <tr style=\"text-align: right;\">\n      <th></th>\n      <th>รหัสสินค้า</th>\n      <th>ชื่อสินค้า</th>\n      <th>ต้นทุน</th>\n      <th>ราคาขาย</th>\n    </tr>\n  </thead>\n  <tbody>\n    <tr>\n      <th>1</th>\n      <td>A0002</td>\n      <td>พัฒนาเว็บแอพด้วย ASP.NET Core MVC</td>\n      <td>270</td>\n      <td>299</td>\n    </tr>\n    <tr>\n      <th>5</th>\n      <td>A0006</td>\n      <td>การพัฒนาเว็บด้วย ASP.NET Core MVC</td>\n      <td>299</td>\n      <td>315</td>\n    </tr>\n  </tbody>\n</table>\n</div>"
     },
     "metadata": {},
     "execution_count": 18
    }
   ],
   "source": [
    "import pandas as pd\n",
    "\n",
    "df = pd.read_excel('Product.xlsx')\n",
    "df[df['ชื่อสินค้า'].str.contains('mvc', case=False)]"
   ]
  },
  {
   "cell_type": "code",
   "execution_count": null,
   "metadata": {},
   "outputs": [],
   "source": []
  }
 ]
}