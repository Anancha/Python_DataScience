{
 "metadata": {
  "language_info": {
   "codemirror_mode": {
    "name": "ipython",
    "version": 3
   },
   "file_extension": ".py",
   "mimetype": "text/x-python",
   "name": "python",
   "nbconvert_exporter": "python",
   "pygments_lexer": "ipython3",
   "version": "3.8.5-final"
  },
  "orig_nbformat": 2,
  "kernelspec": {
   "name": "Python 3.8.5 32-bit",
   "display_name": "Python 3.8.5 32-bit",
   "metadata": {
    "interpreter": {
     "hash": "7a542ca580817fc4dd55327026e074e2fa0cd470fc5dee9350c2d8b13822db8d"
    }
   }
  }
 },
 "nbformat": 4,
 "nbformat_minor": 2,
 "cells": [
  {
   "cell_type": "code",
   "execution_count": 9,
   "metadata": {},
   "outputs": [
    {
     "output_type": "execute_result",
     "data": {
      "text/plain": [
       "   CustomerID FullName  Salary\n",
       "1         100   ศุภชัย   20000\n",
       "2         101    ดวงพร   19500\n",
       "3         102     สมใจ   18600"
      ],
      "text/html": "<div>\n<style scoped>\n    .dataframe tbody tr th:only-of-type {\n        vertical-align: middle;\n    }\n\n    .dataframe tbody tr th {\n        vertical-align: top;\n    }\n\n    .dataframe thead th {\n        text-align: right;\n    }\n</style>\n<table border=\"1\" class=\"dataframe\">\n  <thead>\n    <tr style=\"text-align: right;\">\n      <th></th>\n      <th>CustomerID</th>\n      <th>FullName</th>\n      <th>Salary</th>\n    </tr>\n  </thead>\n  <tbody>\n    <tr>\n      <th>1</th>\n      <td>100</td>\n      <td>ศุภชัย</td>\n      <td>20000</td>\n    </tr>\n    <tr>\n      <th>2</th>\n      <td>101</td>\n      <td>ดวงพร</td>\n      <td>19500</td>\n    </tr>\n    <tr>\n      <th>3</th>\n      <td>102</td>\n      <td>สมใจ</td>\n      <td>18600</td>\n    </tr>\n  </tbody>\n</table>\n</div>"
     },
     "metadata": {},
     "execution_count": 9
    }
   ],
   "source": [
    "import pandas as pd\n",
    "\n",
    "data1 = {\n",
    "        'CustomerID' : [100, 101, 102],\n",
    "        'FullName': ['ศุภชัย', 'ดวงพร', 'สมใจ']\n",
    "     }\n",
    "data2 = {\n",
    "        'Salary': [20000, 19500, 18600]\n",
    "     }\n",
    "\n",
    "df1 = pd.DataFrame(data1, index={1, 2, 3})\n",
    "df2 = pd.DataFrame(data2, index={1, 2, 3})\n",
    "\n",
    "result = pd.concat([df1, df2], axis=1)\n",
    "result"
   ]
  },
  {
   "cell_type": "code",
   "execution_count": null,
   "metadata": {},
   "outputs": [],
   "source": []
  }
 ]
}