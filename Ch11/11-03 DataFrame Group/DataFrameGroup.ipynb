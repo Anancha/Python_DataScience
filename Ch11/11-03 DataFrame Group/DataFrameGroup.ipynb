{
 "metadata": {
  "language_info": {
   "codemirror_mode": {
    "name": "ipython",
    "version": 3
   },
   "file_extension": ".py",
   "mimetype": "text/x-python",
   "name": "python",
   "nbconvert_exporter": "python",
   "pygments_lexer": "ipython3",
   "version": "3.8.5-final"
  },
  "orig_nbformat": 2,
  "kernelspec": {
   "name": "Python 3.8.5 32-bit",
   "display_name": "Python 3.8.5 32-bit",
   "metadata": {
    "interpreter": {
     "hash": "7a542ca580817fc4dd55327026e074e2fa0cd470fc5dee9350c2d8b13822db8d"
    }
   }
  }
 },
 "nbformat": 4,
 "nbformat_minor": 2,
 "cells": [
  {
   "cell_type": "code",
   "execution_count": 11,
   "metadata": {},
   "outputs": [
    {
     "output_type": "execute_result",
     "data": {
      "text/plain": [
       "     เงินเดือน\n",
       "เพศ           \n",
       "F        18125\n",
       "M        18150"
      ],
      "text/html": "<div>\n<style scoped>\n    .dataframe tbody tr th:only-of-type {\n        vertical-align: middle;\n    }\n\n    .dataframe tbody tr th {\n        vertical-align: top;\n    }\n\n    .dataframe thead th {\n        text-align: right;\n    }\n</style>\n<table border=\"1\" class=\"dataframe\">\n  <thead>\n    <tr style=\"text-align: right;\">\n      <th></th>\n      <th>เงินเดือน</th>\n    </tr>\n    <tr>\n      <th>เพศ</th>\n      <th></th>\n    </tr>\n  </thead>\n  <tbody>\n    <tr>\n      <th>F</th>\n      <td>18125</td>\n    </tr>\n    <tr>\n      <th>M</th>\n      <td>18150</td>\n    </tr>\n  </tbody>\n</table>\n</div>"
     },
     "metadata": {},
     "execution_count": 11
    }
   ],
   "source": [
    "import pandas as pd\n",
    "\n",
    "data = [\n",
    "    ['สมชาย', 185, 16000, 'M'], ['สมใจ', 163, 17500, 'F'],\n",
    "    ['พรชัย', 182, 20000, 'M'], ['วีระ', 183, 19200, 'M'],\n",
    "    ['ดวงพร', 166, 18500, 'F'], ['วิไล', 165, 19700, 'F'],\n",
    "    ['ปิยะพร', 160, 16800, 'F'], ['บุญเลิศ', 179, 17400, 'M']\n",
    "]\n",
    "\n",
    "colsname = ['ชื่อ', 'ส่วนสูง', 'เงินเดือน', 'เพศ']\n",
    "df = pd.DataFrame(data, columns=colsname)\n",
    "\n",
    "role = df.groupby(['เพศ'])\n",
    "df_groupby_role = role[['เพศ', 'เงินเดือน']]\n",
    "result = df_groupby_role.mean()\n",
    "result"
   ]
  },
  {
   "cell_type": "code",
   "execution_count": null,
   "metadata": {},
   "outputs": [],
   "source": []
  }
 ]
}